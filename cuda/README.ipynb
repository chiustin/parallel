{
 "cells": [
  {
   "cell_type": "markdown",
   "metadata": {},
   "source": [
    "# Dot product used by CUDA and OpenMP\n",
    "\n",
    "* 在NVIDIA_CUDA-8.0_Samples/0_Simple/UnifiedMemoryStreams有使用CUDA和OpenMP的編譯方法，所以根據這個Makefile進行解碼，再把網路上有使用CUDA和OpenMP解Dot product的code在我的MAC進行compile以及execute，可惜OpenMP部分OS X沒有支援\n",
    "\n",
    "* 因為OS X 的xcode沒有支援-Xcompiler -fopenmp，所以註解掉main.cu的`include <omp.h>`就可以執行\n",
    "\n",
    "  [原因](http://docs.nvidia.com/cuda/cuda-samples/index.html#cudaopenmp)\n",
    ">\"cudaOpenMP的Supported OSes只有Linux, Windows而且sample只有MAC沒有cudaOpenMP資料夾\"\n",
    "\n",
    "* 因為CUDA的原始Makefile會在/Users/chiustin/NVIDIA_CUDA-8.0_Samples開一個bin資料夾放執行檔，所以在Makefile裡也在這兩行做註解   \n",
    "  - `$(EXEC) mkdir -p ../../bin/$(TARGET_ARCH)/$(TARGET_OS)/$(BUILD_TYPE)` \n",
    "  - `$(EXEC) cp $@ ../../bin/$(TARGET_ARCH)/$(TARGET_OS)/$(BUILD_TYPE)`"
   ]
  },
  {
   "cell_type": "markdown",
   "metadata": {},
   "source": [
    "## compile分成兩個部分進行解碼\n",
    "`main.o:main.cu\n",
    "\t$(EXEC) $(NVCC) $(INCLUDES) $(ALL_CCFLAGS) $(GENCODE_FLAGS) -o $@ -c $<`\n",
    "\n",
    "`main: main.o\n",
    "\t$(EXEC) $(NVCC) $(ALL_LDFLAGS) $(GENCODE_FLAGS) -o $@ $+ $(LIBRARIES)`"
   ]
  },
  {
   "cell_type": "markdown",
   "metadata": {},
   "source": [
    "### main.o:main.cu\n",
    "* `EXEC ?= @echo \"[@]\"`\n",
    "* `NVCC := $(CUDA_PATH)/bin/nvcc -ccbin $(HOST_COMPILER)`\n",
    "    - `CUDA_PATH?=/Developer/NVIDIA/CUDA-8.0`\n",
    "    - `HOST_COMPILER ?= clang++`\n",
    "        * `ifeq ($(TARGET_OS),darwin)` #在OS X CUDA是開啟darwin資料夾\n",
    "* `INCLUDES  := -I/Users/chiustin/NVIDIA_CUDA-8.0_Samples/common/inc` #helper_cuda.h\n",
    "* `ALL_CCFLAGS`\n",
    "  - `ALL_CCFLAGS += $(NVCCFLAGS)`\n",
    "      - `NVCCFLAGS   := -m${TARGET_SIZE}`\n",
    "          - `ifneq (,$(filter $(TARGET_ARCH),x86_64 aarch64 ppc64le))\n",
    "            TARGET_SIZE := 64` #OS X是x86_64\n",
    "  - `ALL_CCFLAGS += $(EXTRA_NVCCFLAGS)`\n",
    "  - `ALL_CCFLAGS += $(addprefix -Xcompiler ,$(CCFLAGS))` #addprefix會讓Xcompiler分-arch和HOST_ARCH\n",
    "      - `-arch $(HOST_ARCH)`\n",
    "          - `HOST_ARCH   := $(shell uname -m)` #在OS X uname -m是x86_64\n",
    "  - `ALL_CCFLAGS += $(addprefix -Xcompiler ,$(EXTRA_CCFLAGS))`\n",
    "  - else #算有點小BUG，因為OS X是判斷`ifneq ($(TARGET_OS),darwin)`，pthread才是判斷else\n",
    "    - `LIBRARIES += -lpthread`\n",
    "    - `ALL_CCFLAGS += -DUSE_PTHREADS` #因為xcode不支援-fopenmp\n",
    "* GENCODE_FLAGS #分成SASS和PTX後面會進行解釋\n",
    "  - `GENCODE_FLAGS += -gencode arch=compute_$(sm),code=sm_$(sm)`\n",
    "      - `$(foreach sm,$(SMS),$(eval GENCODE_FLAGS += -gencode arch=compute_$(sm),code=sm_$(sm)))`\n",
    "          - `SMS ?= 30 35 37 50 52 60` #foreach sm會將SMS都\n",
    "\n",
    "  - `GENCODE_FLAGS += -gencode arch=compute_$(HIGHEST_SM),code=compute_$(HIGHEST_SM)`\n",
    "      - `HIGHEST_SM := $(lastword $(sort $(SMS)))` #做sort由小到大，最大的SMS=60為lastword\n"
   ]
  },
  {
   "cell_type": "markdown",
   "metadata": {},
   "source": [
    "### main: main.o\n",
    "* ALL_LDFLAGS \n",
    "  - `ALL_LDFLAGS += $(addprefix -Xlinker ,$(LDFLAGS))`\n",
    "      - `LDFLAGS += -rpath $(CUDA_PATH)/lib` #lcublas\n",
    "  - `ALL_LDFLAGS += $(addprefix -Xlinker ,$(EXTRA_LDFLAGS))`"
   ]
  },
  {
   "cell_type": "markdown",
   "metadata": {},
   "source": [
    "## 以下是我的Command Line instrument:"
   ]
  },
  {
   "cell_type": "markdown",
   "metadata": {},
   "source": [
    "/Developer/NVIDIA/CUDA-8.0/bin/nvcc -ccbin clang++ -I/Users/chiustin/NVIDIA_CUDA-8.0_Samples/common/inc  -m64  -Xcompiler -arch -Xcompiler x86_64  -DUSE_PTHREADS -gencode arch=compute_30,code=sm_30 -gencode arch=compute_35,code=sm_35 -gencode arch=compute_37,code=sm_37 -gencode arch=compute_50,code=sm_50 -gencode arch=compute_52,code=sm_52 -gencode arch=compute_60,code=sm_60 -gencode arch=compute_60,code=compute_60 -o main.o -c main.cu"
   ]
  },
  {
   "cell_type": "markdown",
   "metadata": {},
   "source": [
    "/Developer/NVIDIA/CUDA-8.0/bin/nvcc -ccbin clang++   -m64  -Xcompiler -arch -Xcompiler x86_64  -DUSE_PTHREADS -Xlinker -rpath -Xlinker /Developer/NVIDIA/CUDA-8.0/lib  -gencode arch=compute_30,code=sm_30 -gencode arch=compute_35,code=sm_35 -gencode arch=compute_37,code=sm_37 -gencode arch=compute_50,code=sm_50 -gencode arch=compute_52,code=sm_52 -gencode arch=compute_60,code=sm_60 -gencode arch=compute_60,code=compute_60 -o main main.o  -lcublas"
   ]
  },
  {
   "cell_type": "markdown",
   "metadata": {},
   "source": [
    "## 解釋SASS和PTX\n",
    "\n",
    "NVIDIA的ParallelThread eXecution (PTX)指令集。 PTX是一種偽彙編指令集；即它不能直接運行在硬件之上。 Ptxas是NVIDIA的彙編器，將PTX彙編為可運行在硬件上本機指令集（SASS）。每一代硬件支持不同版本的SASS。出於這個原因，PTX在編譯的時候可以被編譯為面向不同代硬件的不同版本的SASS。儘管如此，PTX代碼仍然被嵌入到庫中以支持未來的硬件。在運行時，運行時系統選擇合適版本的SASS運行在相應的硬件上。如果沒有合適版本，則運行時系統調用just-in-time（JIT）編譯器編譯嵌入的PTX，將其編譯為對應於相應硬件的SASS。"
   ]
  },
  {
   "cell_type": "markdown",
   "metadata": {},
   "source": [
    "## clang gcc omp.h\n",
    "* /usr/local/Cellar/gcc/6.2.0/lib/gcc/6/gcc/x86_64-apple-darwin16.0.0/6.2.0/include\n",
    "    - 所以gcc -fopenmp omp.c是可以產生執行檔並且執行"
   ]
  },
  {
   "cell_type": "markdown",
   "metadata": {},
   "source": [
    "## cuda.h \n",
    "* /Developer/NVIDIA/CUDA-8.0/lib/stubs/CUDA.framework/Headers\n",
    "* /usr/local/cuda/include"
   ]
  }
 ],
 "metadata": {
  "anaconda-cloud": {},
  "kernelspec": {
   "display_name": "Python [default]",
   "language": "python",
   "name": "python3"
  },
  "language_info": {
   "codemirror_mode": {
    "name": "ipython",
    "version": 3
   },
   "file_extension": ".py",
   "mimetype": "text/x-python",
   "name": "python",
   "nbconvert_exporter": "python",
   "pygments_lexer": "ipython3",
   "version": "3.5.2"
  }
 },
 "nbformat": 4,
 "nbformat_minor": 1
}
